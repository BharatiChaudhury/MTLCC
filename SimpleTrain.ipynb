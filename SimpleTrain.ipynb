{
 "cells": [
  {
   "cell_type": "markdown",
   "metadata": {},
   "source": [
    "# Simple Train\n",
    "\n",
    "This Notebook is written to provide a self-contained overview over the data and network loading and training\n",
    "\n",
    "It is organized in three parts\n",
    "\n",
    "1. Creation of a fake dataset with random values\n",
    "2. Loading this dataset using the Tensorflows [Dataset API](https://www.tensorflow.org/api_docs/python/tf/data/Dataset)\n",
    "3. Performing one training step\n",
    "\n",
    "## Initialize variables and packages"
   ]
  },
  {
   "cell_type": "code",
   "execution_count": 4,
   "metadata": {},
   "outputs": [
    {
     "name": "stdout",
     "output_type": "stream",
     "text": [
      "['tmp/0.tfrecord.gz', 'tmp/1.tfrecord.gz', 'tmp/2.tfrecord.gz', 'tmp/3.tfrecord.gz', 'tmp/4.tfrecord.gz', 'tmp/5.tfrecord.gz', 'tmp/6.tfrecord.gz', 'tmp/7.tfrecord.gz', 'tmp/8.tfrecord.gz', 'tmp/9.tfrecord.gz']\n"
     ]
    }
   ],
   "source": [
    "import numpy as np\n",
    "from S2parser import S2parser\n",
    "import os\n",
    "import gzip\n",
    "import shutil\n",
    "import tensorflow as tf\n",
    "\n",
    "parser=S2parser()\n",
    "\n",
    "# define directory to store the fake dataset\n",
    "directory=\"tmp\"\n",
    "if not os.path.exists(directory):\n",
    "    os.makedirs(directory)\n",
    "\n",
    "filepaths=[\"{}/{}.tfrecord.gz\".format(directory,i) for i in range(10)]\n",
    "print(filepaths)"
   ]
  },
  {
   "cell_type": "markdown",
   "metadata": {},
   "source": [
    "## 1. Create a fake random dataset"
   ]
  },
  {
   "cell_type": "code",
   "execution_count": 5,
   "metadata": {},
   "outputs": [],
   "source": [
    "def write_random_sample(filepath,nobs=46, pix10=24, bands10=4, pix20=12, bands20=6, pix60=6, bands60=3):\n",
    "    \"\"\"create a fake sample with random values\"\"\"\n",
    "    x10 = (np.random.random([nobs,pix10,pix10,bands10])*1e4).astype(np.int64)\n",
    "    x20 = (np.random.random([nobs,pix20,pix20,bands20])*1e4).astype(np.int64)\n",
    "    x60 = (np.random.random([nobs,pix60,pix60,bands60])*1e4).astype(np.int64)\n",
    "    doy = (np.random.random([nobs])*365).astype(np.int64)\n",
    "    year = np.round(np.random.random([nobs])+2016.5).astype(np.int64)\n",
    "    label = (np.random.random([nobs,pix10,pix10])*17).astype(np.int64)\n",
    "\n",
    "    # create instance of parser\n",
    "    parser = S2parser()\n",
    "\n",
    "    # write .tfrecord\n",
    "    parser.write(filepath, x10, x20, x60, doy, year, label)\n",
    "\n",
    "def ziptfrecord(infile,outfile):\n",
    "    # gzip .tfrecord to .tfrecord.gz\n",
    "    with open(infile, 'rb') as f_in:\n",
    "        with gzip.open(outfile, 'wb') as f_out:\n",
    "            shutil.copyfileobj(f_in, f_out)\n",
    "\n",
    "    # remove unzipped .tfrecord\n",
    "    os.remove(os.path.join(directory, filename))"
   ]
  },
  {
   "cell_type": "code",
   "execution_count": 6,
   "metadata": {},
   "outputs": [
    {
     "name": "stdout",
     "output_type": "stream",
     "text": [
      "writing tmp/0.tfrecord.gz\n",
      "writing tmp/1.tfrecord.gz\n",
      "writing tmp/2.tfrecord.gz\n",
      "writing tmp/3.tfrecord.gz\n",
      "writing tmp/4.tfrecord.gz\n",
      "writing tmp/5.tfrecord.gz\n",
      "writing tmp/6.tfrecord.gz\n",
      "writing tmp/7.tfrecord.gz\n",
      "writing tmp/8.tfrecord.gz\n",
      "writing tmp/9.tfrecord.gz\n"
     ]
    }
   ],
   "source": [
    "# create the dataset\n",
    "for tileid in range(10):\n",
    "    filename=\"{}.tfrecord\".format(tileid)\n",
    "    write_random_sample(os.path.join(directory,filename))\n",
    "    ziptfrecord(os.path.join(directory,filename),os.path.join(directory,filename+\".gz\"))\n",
    "\n",
    "    print(\"writing \"+os.path.join(directory,filename+\".gz\"))"
   ]
  },
  {
   "cell_type": "markdown",
   "metadata": {},
   "source": [
    "## 2. Create a Tensorflow Dataset Iterator\n",
    "\n",
    "See https://www.tensorflow.org/programmers_guide/datasets for more details\n",
    "\n",
    "- Essentially includes the data in the processing graph as input nodes.\n",
    "- These commands set up the processing graph of the input pipeline.\n",
    "- No data is processed,yet.\n",
    "- Some errors may remain undetected until data is inferred with sess.run(.)"
   ]
  },
  {
   "cell_type": "code",
   "execution_count": 38,
   "metadata": {},
   "outputs": [
    {
     "name": "stdout",
     "output_type": "stream",
     "text": [
      "Reset all previously loaded graphs (in case this or the next cells have been executed twice)\n",
      "creating dataset object\n",
      "applying the mapping function on all samples (will read tfrecord file and normalize the values)\n",
      "repeat forever until externally stopped\n",
      "combine samples to batches\n",
      "make iterator\n"
     ]
    }
   ],
   "source": [
    "batchsize=2\n",
    "\n",
    "print(\"Reset all previously loaded graphs (in case this or the next cells have been executed twice)\")\n",
    "tf.reset_default_graph()\n",
    "\n",
    "print(\"creating dataset object\")\n",
    "dataset = tf.data.TFRecordDataset(filepaths, compression_type=\"GZIP\")\n",
    "\n",
    "def normalize(serialized_feature):\n",
    "    \"\"\" normalize stored integer values to floats approx. [0,1] \"\"\"\n",
    "    x10, x20, x60, doy, year, labels = serialized_feature\n",
    "    x10 = tf.scalar_mul(1e-4, tf.cast(x10, tf.float32))\n",
    "    x20 = tf.scalar_mul(1e-4, tf.cast(x20, tf.float32))\n",
    "    x60 = tf.scalar_mul(1e-4, tf.cast(x60, tf.float32))\n",
    "    doy = tf.cast(doy, tf.float32) / 365\n",
    "    year = tf.cast(year, tf.float32) - 2016\n",
    "\n",
    "    return x10, x20, x60, doy, year, labels\n",
    "\n",
    "def mapping_function(serialized_feature):\n",
    "    # read data from .tfrecords\n",
    "    serialized_feature = parser.parse_example(serialized_feature)\n",
    "    return normalize(serialized_feature)\n",
    "\n",
    "print(\"applying the mapping function on all samples (will read tfrecord file and normalize the values)\")\n",
    "dataset = dataset.map(mapping_function)\n",
    "\n",
    "print(\"repeat forever until externally stopped\")\n",
    "dataset = dataset.repeat()\n",
    "\n",
    "print(\"combine samples to batches\")\n",
    "dataset = dataset.apply(tf.contrib.data.batch_and_drop_remainder(int(batchsize)))\n",
    "\n",
    "print(\"make iterator\")\n",
    "iterator = dataset.make_initializable_iterator()"
   ]
  },
  {
   "cell_type": "markdown",
   "metadata": {},
   "source": [
    "## 3a. Retrieve one sample"
   ]
  },
  {
   "cell_type": "code",
   "execution_count": 39,
   "metadata": {},
   "outputs": [
    {
     "name": "stdout",
     "output_type": "stream",
     "text": [
      "retrieving one sample as numpy array (just for fun)\n",
      "x10.shape: (2, 46, 24, 24, 4)\n"
     ]
    },
    {
     "data": {
      "image/png": "[encoded data removed]",
      "text/plain": [
       "<matplotlib.figure.Figure at 0x7fe4fcfb9810>"
      ]
     },
     "metadata": {},
     "output_type": "display_data"
    }
   ],
   "source": [
    "import matplotlib.pyplot as plt\n",
    "%matplotlib inline\n",
    "\n",
    "\n",
    "with tf.Session() as sess:\n",
    "    sess.run(iterator.initializer)\n",
    "    print(\"retrieving one sample as numpy array (just for fun)\")\n",
    "    x10, x20, x60, doy, year, labels = sess.run(iterator.get_next())\n",
    "    print(\"x10.shape: \" + str(x10.shape))\n",
    "    plt.imshow(x10[0,0,:,:,0])\n",
    "    plt.title(\"x10\")"
   ]
  },
  {
   "cell_type": "markdown",
   "metadata": {},
   "source": [
    "# 3b Perform one training step"
   ]
  },
  {
   "cell_type": "code",
   "execution_count": 40,
   "metadata": {},
   "outputs": [
    {
     "name": "stdout",
     "output_type": "stream",
     "text": [
      "loading network graph definition\n",
      "initializing variables, tables and the data iterator\n",
      "getting one string handle from the iterator that can be fed to the network\n",
      "making some processing nodes accessible to python\n",
      "performing one training step\n"
     ]
    }
   ],
   "source": [
    "# define the network to be loaded\n",
    "# if not yet created, make one with python modelzoo/seqencoder.py script, as described in the readme.md\n",
    "graph=\"tmp/convgru128/graph.meta\"\n",
    "\n",
    "with tf.Session() as sess:\n",
    "\n",
    "    print(\"loading network graph definition\")\n",
    "    tf.train.import_meta_graph(graph)\n",
    "\n",
    "    print(\"initializing variables, tables and the data iterator\")\n",
    "    sess.run([tf.global_variables_initializer(), tf.local_variables_initializer(), tf.tables_initializer(),iterator.initializer])\n",
    "\n",
    "    print(\"getting one string handle from the iterator that can be fed to the network\")\n",
    "    iterator_handle = sess.run(iterator.string_handle())\n",
    "\n",
    "    print(\"making some processing nodes accessible to python\")\n",
    "    def get_operation(name):\n",
    "        return tf.get_default_graph().get_operation_by_name(name).outputs[0]\n",
    "\n",
    "    iterator_handle_op = get_operation(\"data_iterator_handle\")\n",
    "    is_train_op = get_operation(\"is_train\")\n",
    "    train_op = get_operation(\"train_op\")\n",
    "\n",
    "    print(\"performing one training step\")\n",
    "    sess.run(train_op,feed_dict={iterator_handle_op: iterator_handle, is_train_op: True})"
   ]
  }
 ],
 "metadata": {
  "kernelspec": {
   "display_name": "Python 2",
   "language": "python",
   "name": "python2"
  },
  "language_info": {
   "codemirror_mode": {
    "name": "ipython",
    "version": 2
   },
   "file_extension": ".py",
   "mimetype": "text/x-python",
   "name": "python",
   "nbconvert_exporter": "python",
   "pygments_lexer": "ipython2",
   "version": "2.7.13"
  }
 },
 "nbformat": 4,
 "nbformat_minor": 2
}
